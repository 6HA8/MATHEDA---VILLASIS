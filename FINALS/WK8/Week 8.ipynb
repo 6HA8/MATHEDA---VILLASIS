{
 "cells": [
  {
   "cell_type": "markdown",
   "metadata": {},
   "source": [
    "# FINALS Data Cleaning <hr style=\"border:5.5px solid #126782\"></hr>"
   ]
  },
  {
   "cell_type": "code",
   "execution_count": 4,
   "metadata": {},
   "outputs": [
    {
     "name": "stdout",
     "output_type": "stream",
     "text": [
      "Requirement already satisfied: matplotlib in c:\\users\\windows 10\\appdata\\local\\programs\\python\\python313\\lib\\site-packages (3.9.3)Note: you may need to restart the kernel to use updated packages.\n",
      "\n",
      "Requirement already satisfied: contourpy>=1.0.1 in c:\\users\\windows 10\\appdata\\local\\programs\\python\\python313\\lib\\site-packages (from matplotlib) (1.3.1)\n",
      "Requirement already satisfied: cycler>=0.10 in c:\\users\\windows 10\\appdata\\local\\programs\\python\\python313\\lib\\site-packages (from matplotlib) (0.12.1)\n",
      "Requirement already satisfied: fonttools>=4.22.0 in c:\\users\\windows 10\\appdata\\local\\programs\\python\\python313\\lib\\site-packages (from matplotlib) (4.55.3)\n",
      "Requirement already satisfied: kiwisolver>=1.3.1 in c:\\users\\windows 10\\appdata\\local\\programs\\python\\python313\\lib\\site-packages (from matplotlib) (1.4.7)\n",
      "Requirement already satisfied: numpy>=1.23 in c:\\users\\windows 10\\appdata\\local\\programs\\python\\python313\\lib\\site-packages (from matplotlib) (2.2.0)\n",
      "Requirement already satisfied: packaging>=20.0 in c:\\users\\windows 10\\appdata\\roaming\\python\\python313\\site-packages (from matplotlib) (24.2)\n",
      "Requirement already satisfied: pillow>=8 in c:\\users\\windows 10\\appdata\\local\\programs\\python\\python313\\lib\\site-packages (from matplotlib) (11.0.0)\n",
      "Requirement already satisfied: pyparsing>=2.3.1 in c:\\users\\windows 10\\appdata\\local\\programs\\python\\python313\\lib\\site-packages (from matplotlib) (3.2.0)\n",
      "Requirement already satisfied: python-dateutil>=2.7 in c:\\users\\windows 10\\appdata\\roaming\\python\\python313\\site-packages (from matplotlib) (2.9.0.post0)\n",
      "Requirement already satisfied: six>=1.5 in c:\\users\\windows 10\\appdata\\roaming\\python\\python313\\site-packages (from python-dateutil>=2.7->matplotlib) (1.16.0)\n"
     ]
    },
    {
     "name": "stderr",
     "output_type": "stream",
     "text": [
      "\n",
      "[notice] A new release of pip is available: 24.3.1 -> 25.0.1\n",
      "[notice] To update, run: python.exe -m pip install --upgrade pip\n"
     ]
    }
   ],
   "source": [
    "pip install matplotlib\n"
   ]
  },
  {
   "cell_type": "code",
   "execution_count": 5,
   "metadata": {},
   "outputs": [
    {
     "name": "stdout",
     "output_type": "stream",
     "text": [
      "Requirement already satisfied: pandas in c:\\users\\windows 10\\appdata\\local\\programs\\python\\python313\\lib\\site-packages (2.2.3)\n",
      "Requirement already satisfied: numpy>=1.26.0 in c:\\users\\windows 10\\appdata\\local\\programs\\python\\python313\\lib\\site-packages (from pandas) (2.2.0)\n",
      "Requirement already satisfied: python-dateutil>=2.8.2 in c:\\users\\windows 10\\appdata\\roaming\\python\\python313\\site-packages (from pandas) (2.9.0.post0)\n",
      "Requirement already satisfied: pytz>=2020.1 in c:\\users\\windows 10\\appdata\\local\\programs\\python\\python313\\lib\\site-packages (from pandas) (2024.2)\n",
      "Requirement already satisfied: tzdata>=2022.7 in c:\\users\\windows 10\\appdata\\local\\programs\\python\\python313\\lib\\site-packages (from pandas) (2024.2)\n",
      "Requirement already satisfied: six>=1.5 in c:\\users\\windows 10\\appdata\\roaming\\python\\python313\\site-packages (from python-dateutil>=2.8.2->pandas) (1.16.0)\n",
      "Note: you may need to restart the kernel to use updated packages.\n"
     ]
    },
    {
     "name": "stderr",
     "output_type": "stream",
     "text": [
      "\n",
      "[notice] A new release of pip is available: 24.3.1 -> 25.0.1\n",
      "[notice] To update, run: python.exe -m pip install --upgrade pip\n"
     ]
    }
   ],
   "source": [
    "pip install pandas"
   ]
  },
  {
   "cell_type": "code",
   "execution_count": 6,
   "metadata": {},
   "outputs": [],
   "source": [
    "import pandas as pd \n",
    "import numpy as np \n",
    "import matplotlib.pyplot as plt"
   ]
  },
  {
   "cell_type": "code",
   "execution_count": 7,
   "metadata": {},
   "outputs": [
    {
     "name": "stdout",
     "output_type": "stream",
     "text": [
      "<class 'pandas.core.frame.DataFrame'>\n",
      "RangeIndex: 64016 entries, 0 to 64015\n",
      "Data columns (total 14 columns):\n",
      " #   Column        Non-Null Count  Dtype  \n",
      "---  ------        --------------  -----  \n",
      " 0   img           64016 non-null  object \n",
      " 1   title         64016 non-null  object \n",
      " 2   console       64016 non-null  object \n",
      " 3   genre         64016 non-null  object \n",
      " 4   publisher     64016 non-null  object \n",
      " 5   developer     63999 non-null  object \n",
      " 6   critic_score  6678 non-null   float64\n",
      " 7   total_sales   18922 non-null  float64\n",
      " 8   na_sales      12637 non-null  float64\n",
      " 9   jp_sales      6726 non-null   float64\n",
      " 10  pal_sales     12824 non-null  float64\n",
      " 11  other_sales   15128 non-null  float64\n",
      " 12  release_date  56965 non-null  object \n",
      " 13  last_update   17879 non-null  object \n",
      "dtypes: float64(6), object(8)\n",
      "memory usage: 6.8+ MB\n"
     ]
    }
   ],
   "source": [
    "df = pd.read_csv(r\"..\\raw\\vgchartz-2024.csv\",\n",
    "                 delimiter=\",\")\n",
    "df.info()"
   ]
  },
  {
   "cell_type": "code",
   "execution_count": 8,
   "metadata": {},
   "outputs": [],
   "source": [
    "df = df.drop('img', axis=1)"
   ]
  },
  {
   "cell_type": "code",
   "execution_count": 10,
   "metadata": {},
   "outputs": [
    {
     "data": {
      "text/html": [
       "<div>\n",
       "<style scoped>\n",
       "    .dataframe tbody tr th:only-of-type {\n",
       "        vertical-align: middle;\n",
       "    }\n",
       "\n",
       "    .dataframe tbody tr th {\n",
       "        vertical-align: top;\n",
       "    }\n",
       "\n",
       "    .dataframe thead th {\n",
       "        text-align: right;\n",
       "    }\n",
       "</style>\n",
       "<table border=\"1\" class=\"dataframe\">\n",
       "  <thead>\n",
       "    <tr style=\"text-align: right;\">\n",
       "      <th></th>\n",
       "      <th>title</th>\n",
       "      <th>console</th>\n",
       "      <th>genre</th>\n",
       "      <th>publisher</th>\n",
       "      <th>developer</th>\n",
       "      <th>critic_score</th>\n",
       "      <th>total_sales</th>\n",
       "      <th>na_sales</th>\n",
       "      <th>jp_sales</th>\n",
       "      <th>pal_sales</th>\n",
       "      <th>other_sales</th>\n",
       "      <th>release_date</th>\n",
       "      <th>last_update</th>\n",
       "    </tr>\n",
       "  </thead>\n",
       "  <tbody>\n",
       "    <tr>\n",
       "      <th>0</th>\n",
       "      <td>Grand Theft Auto V</td>\n",
       "      <td>PS3</td>\n",
       "      <td>Action</td>\n",
       "      <td>Rockstar Games</td>\n",
       "      <td>Rockstar North</td>\n",
       "      <td>9.4</td>\n",
       "      <td>20.32</td>\n",
       "      <td>6.37</td>\n",
       "      <td>0.99</td>\n",
       "      <td>9.85</td>\n",
       "      <td>3.12</td>\n",
       "      <td>2013-09-17</td>\n",
       "      <td>NaN</td>\n",
       "    </tr>\n",
       "    <tr>\n",
       "      <th>2</th>\n",
       "      <td>Grand Theft Auto: Vice City</td>\n",
       "      <td>PS2</td>\n",
       "      <td>Action</td>\n",
       "      <td>Rockstar Games</td>\n",
       "      <td>Rockstar North</td>\n",
       "      <td>9.6</td>\n",
       "      <td>16.15</td>\n",
       "      <td>8.41</td>\n",
       "      <td>0.47</td>\n",
       "      <td>5.49</td>\n",
       "      <td>1.78</td>\n",
       "      <td>2002-10-28</td>\n",
       "      <td>NaN</td>\n",
       "    </tr>\n",
       "    <tr>\n",
       "      <th>3</th>\n",
       "      <td>Grand Theft Auto V</td>\n",
       "      <td>X360</td>\n",
       "      <td>Action</td>\n",
       "      <td>Rockstar Games</td>\n",
       "      <td>Rockstar North</td>\n",
       "      <td>NaN</td>\n",
       "      <td>15.86</td>\n",
       "      <td>9.06</td>\n",
       "      <td>0.06</td>\n",
       "      <td>5.33</td>\n",
       "      <td>1.42</td>\n",
       "      <td>2013-09-17</td>\n",
       "      <td>NaN</td>\n",
       "    </tr>\n",
       "    <tr>\n",
       "      <th>5</th>\n",
       "      <td>Call of Duty: Modern Warfare 3</td>\n",
       "      <td>X360</td>\n",
       "      <td>Shooter</td>\n",
       "      <td>Activision</td>\n",
       "      <td>Infinity Ward</td>\n",
       "      <td>8.7</td>\n",
       "      <td>14.82</td>\n",
       "      <td>9.07</td>\n",
       "      <td>0.13</td>\n",
       "      <td>4.29</td>\n",
       "      <td>1.33</td>\n",
       "      <td>2011-11-08</td>\n",
       "      <td>NaN</td>\n",
       "    </tr>\n",
       "    <tr>\n",
       "      <th>6</th>\n",
       "      <td>Call of Duty: Black Ops</td>\n",
       "      <td>X360</td>\n",
       "      <td>Shooter</td>\n",
       "      <td>Activision</td>\n",
       "      <td>Treyarch</td>\n",
       "      <td>8.8</td>\n",
       "      <td>14.74</td>\n",
       "      <td>9.76</td>\n",
       "      <td>0.11</td>\n",
       "      <td>3.73</td>\n",
       "      <td>1.14</td>\n",
       "      <td>2010-11-09</td>\n",
       "      <td>NaN</td>\n",
       "    </tr>\n",
       "    <tr>\n",
       "      <th>...</th>\n",
       "      <td>...</td>\n",
       "      <td>...</td>\n",
       "      <td>...</td>\n",
       "      <td>...</td>\n",
       "      <td>...</td>\n",
       "      <td>...</td>\n",
       "      <td>...</td>\n",
       "      <td>...</td>\n",
       "      <td>...</td>\n",
       "      <td>...</td>\n",
       "      <td>...</td>\n",
       "      <td>...</td>\n",
       "      <td>...</td>\n",
       "    </tr>\n",
       "    <tr>\n",
       "      <th>64011</th>\n",
       "      <td>XBlaze Lost: Memories</td>\n",
       "      <td>PC</td>\n",
       "      <td>Visual Novel</td>\n",
       "      <td>Aksys Games</td>\n",
       "      <td>Arc System Works</td>\n",
       "      <td>NaN</td>\n",
       "      <td>NaN</td>\n",
       "      <td>NaN</td>\n",
       "      <td>NaN</td>\n",
       "      <td>NaN</td>\n",
       "      <td>NaN</td>\n",
       "      <td>2016-08-11</td>\n",
       "      <td>2019-01-28</td>\n",
       "    </tr>\n",
       "    <tr>\n",
       "      <th>64012</th>\n",
       "      <td>Yoru, Tomosu</td>\n",
       "      <td>PS4</td>\n",
       "      <td>Visual Novel</td>\n",
       "      <td>Nippon Ichi Software</td>\n",
       "      <td>Nippon Ichi Software</td>\n",
       "      <td>NaN</td>\n",
       "      <td>NaN</td>\n",
       "      <td>NaN</td>\n",
       "      <td>NaN</td>\n",
       "      <td>NaN</td>\n",
       "      <td>NaN</td>\n",
       "      <td>2020-07-30</td>\n",
       "      <td>2020-05-09</td>\n",
       "    </tr>\n",
       "    <tr>\n",
       "      <th>64013</th>\n",
       "      <td>Yoru, Tomosu</td>\n",
       "      <td>NS</td>\n",
       "      <td>Visual Novel</td>\n",
       "      <td>Nippon Ichi Software</td>\n",
       "      <td>Nippon Ichi Software</td>\n",
       "      <td>NaN</td>\n",
       "      <td>NaN</td>\n",
       "      <td>NaN</td>\n",
       "      <td>NaN</td>\n",
       "      <td>NaN</td>\n",
       "      <td>NaN</td>\n",
       "      <td>2020-07-30</td>\n",
       "      <td>2020-05-09</td>\n",
       "    </tr>\n",
       "    <tr>\n",
       "      <th>64014</th>\n",
       "      <td>Yunohana SpRING! ~Mellow Times~</td>\n",
       "      <td>NS</td>\n",
       "      <td>Visual Novel</td>\n",
       "      <td>Idea Factory</td>\n",
       "      <td>Otomate</td>\n",
       "      <td>NaN</td>\n",
       "      <td>NaN</td>\n",
       "      <td>NaN</td>\n",
       "      <td>NaN</td>\n",
       "      <td>NaN</td>\n",
       "      <td>NaN</td>\n",
       "      <td>2019-02-28</td>\n",
       "      <td>2019-02-24</td>\n",
       "    </tr>\n",
       "    <tr>\n",
       "      <th>64015</th>\n",
       "      <td>Yurukill: The Calumniation Games</td>\n",
       "      <td>PS4</td>\n",
       "      <td>Visual Novel</td>\n",
       "      <td>Unknown</td>\n",
       "      <td>G.rev Ltd.</td>\n",
       "      <td>NaN</td>\n",
       "      <td>NaN</td>\n",
       "      <td>NaN</td>\n",
       "      <td>NaN</td>\n",
       "      <td>NaN</td>\n",
       "      <td>NaN</td>\n",
       "      <td>NaN</td>\n",
       "      <td>2023-09-29</td>\n",
       "    </tr>\n",
       "  </tbody>\n",
       "</table>\n",
       "<p>63734 rows × 13 columns</p>\n",
       "</div>"
      ],
      "text/plain": [
       "                                  title console         genre  \\\n",
       "0                    Grand Theft Auto V     PS3        Action   \n",
       "2           Grand Theft Auto: Vice City     PS2        Action   \n",
       "3                    Grand Theft Auto V    X360        Action   \n",
       "5        Call of Duty: Modern Warfare 3    X360       Shooter   \n",
       "6               Call of Duty: Black Ops    X360       Shooter   \n",
       "...                                 ...     ...           ...   \n",
       "64011             XBlaze Lost: Memories      PC  Visual Novel   \n",
       "64012                      Yoru, Tomosu     PS4  Visual Novel   \n",
       "64013                      Yoru, Tomosu      NS  Visual Novel   \n",
       "64014   Yunohana SpRING! ~Mellow Times~      NS  Visual Novel   \n",
       "64015  Yurukill: The Calumniation Games     PS4  Visual Novel   \n",
       "\n",
       "                  publisher             developer  critic_score  total_sales  \\\n",
       "0            Rockstar Games        Rockstar North           9.4        20.32   \n",
       "2            Rockstar Games        Rockstar North           9.6        16.15   \n",
       "3            Rockstar Games        Rockstar North           NaN        15.86   \n",
       "5                Activision         Infinity Ward           8.7        14.82   \n",
       "6                Activision              Treyarch           8.8        14.74   \n",
       "...                     ...                   ...           ...          ...   \n",
       "64011           Aksys Games      Arc System Works           NaN          NaN   \n",
       "64012  Nippon Ichi Software  Nippon Ichi Software           NaN          NaN   \n",
       "64013  Nippon Ichi Software  Nippon Ichi Software           NaN          NaN   \n",
       "64014          Idea Factory               Otomate           NaN          NaN   \n",
       "64015               Unknown            G.rev Ltd.           NaN          NaN   \n",
       "\n",
       "       na_sales  jp_sales  pal_sales  other_sales release_date last_update  \n",
       "0          6.37      0.99       9.85         3.12   2013-09-17         NaN  \n",
       "2          8.41      0.47       5.49         1.78   2002-10-28         NaN  \n",
       "3          9.06      0.06       5.33         1.42   2013-09-17         NaN  \n",
       "5          9.07      0.13       4.29         1.33   2011-11-08         NaN  \n",
       "6          9.76      0.11       3.73         1.14   2010-11-09         NaN  \n",
       "...         ...       ...        ...          ...          ...         ...  \n",
       "64011       NaN       NaN        NaN          NaN   2016-08-11  2019-01-28  \n",
       "64012       NaN       NaN        NaN          NaN   2020-07-30  2020-05-09  \n",
       "64013       NaN       NaN        NaN          NaN   2020-07-30  2020-05-09  \n",
       "64014       NaN       NaN        NaN          NaN   2019-02-28  2019-02-24  \n",
       "64015       NaN       NaN        NaN          NaN          NaN  2023-09-29  \n",
       "\n",
       "[63734 rows x 13 columns]"
      ]
     },
     "execution_count": 10,
     "metadata": {},
     "output_type": "execute_result"
    }
   ],
   "source": [
    "df[df.isna().any(axis=1)]"
   ]
  },
  {
   "cell_type": "code",
   "execution_count": 11,
   "metadata": {},
   "outputs": [
    {
     "name": "stdout",
     "output_type": "stream",
     "text": [
      "<class 'pandas.core.frame.DataFrame'>\n",
      "RangeIndex: 64016 entries, 0 to 64015\n",
      "Data columns (total 13 columns):\n",
      " #   Column        Non-Null Count  Dtype  \n",
      "---  ------        --------------  -----  \n",
      " 0   title         64016 non-null  object \n",
      " 1   console       64016 non-null  object \n",
      " 2   genre         64016 non-null  object \n",
      " 3   publisher     64016 non-null  object \n",
      " 4   developer     63999 non-null  object \n",
      " 5   critic_score  6678 non-null   float64\n",
      " 6   total_sales   18922 non-null  float64\n",
      " 7   na_sales      12637 non-null  float64\n",
      " 8   jp_sales      6726 non-null   float64\n",
      " 9   pal_sales     12824 non-null  float64\n",
      " 10  other_sales   15128 non-null  float64\n",
      " 11  release_date  56965 non-null  object \n",
      " 12  last_update   17879 non-null  object \n",
      "dtypes: float64(6), object(7)\n",
      "memory usage: 6.3+ MB\n"
     ]
    }
   ],
   "source": [
    "df.info()"
   ]
  },
  {
   "cell_type": "code",
   "execution_count": 12,
   "metadata": {},
   "outputs": [
    {
     "data": {
      "text/html": [
       "<div>\n",
       "<style scoped>\n",
       "    .dataframe tbody tr th:only-of-type {\n",
       "        vertical-align: middle;\n",
       "    }\n",
       "\n",
       "    .dataframe tbody tr th {\n",
       "        vertical-align: top;\n",
       "    }\n",
       "\n",
       "    .dataframe thead th {\n",
       "        text-align: right;\n",
       "    }\n",
       "</style>\n",
       "<table border=\"1\" class=\"dataframe\">\n",
       "  <thead>\n",
       "    <tr style=\"text-align: right;\">\n",
       "      <th></th>\n",
       "      <th>title</th>\n",
       "      <th>console</th>\n",
       "      <th>genre</th>\n",
       "      <th>publisher</th>\n",
       "      <th>developer</th>\n",
       "      <th>critic_score</th>\n",
       "      <th>total_sales</th>\n",
       "      <th>na_sales</th>\n",
       "      <th>jp_sales</th>\n",
       "      <th>pal_sales</th>\n",
       "      <th>other_sales</th>\n",
       "      <th>release_date</th>\n",
       "      <th>last_update</th>\n",
       "    </tr>\n",
       "  </thead>\n",
       "  <tbody>\n",
       "    <tr>\n",
       "      <th>0</th>\n",
       "      <td>Grand Theft Auto V</td>\n",
       "      <td>PS3</td>\n",
       "      <td>Action</td>\n",
       "      <td>Rockstar Games</td>\n",
       "      <td>Rockstar North</td>\n",
       "      <td>9.4</td>\n",
       "      <td>20.32</td>\n",
       "      <td>6.37</td>\n",
       "      <td>0.99</td>\n",
       "      <td>9.85</td>\n",
       "      <td>3.12</td>\n",
       "      <td>2013-09-17</td>\n",
       "      <td>NaN</td>\n",
       "    </tr>\n",
       "    <tr>\n",
       "      <th>1</th>\n",
       "      <td>Grand Theft Auto V</td>\n",
       "      <td>PS4</td>\n",
       "      <td>Action</td>\n",
       "      <td>Rockstar Games</td>\n",
       "      <td>Rockstar North</td>\n",
       "      <td>9.7</td>\n",
       "      <td>19.39</td>\n",
       "      <td>6.06</td>\n",
       "      <td>0.60</td>\n",
       "      <td>9.71</td>\n",
       "      <td>3.02</td>\n",
       "      <td>2014-11-18</td>\n",
       "      <td>2018-01-03</td>\n",
       "    </tr>\n",
       "    <tr>\n",
       "      <th>2</th>\n",
       "      <td>Grand Theft Auto: Vice City</td>\n",
       "      <td>PS2</td>\n",
       "      <td>Action</td>\n",
       "      <td>Rockstar Games</td>\n",
       "      <td>Rockstar North</td>\n",
       "      <td>9.6</td>\n",
       "      <td>16.15</td>\n",
       "      <td>8.41</td>\n",
       "      <td>0.47</td>\n",
       "      <td>5.49</td>\n",
       "      <td>1.78</td>\n",
       "      <td>2002-10-28</td>\n",
       "      <td>NaN</td>\n",
       "    </tr>\n",
       "    <tr>\n",
       "      <th>3</th>\n",
       "      <td>Grand Theft Auto V</td>\n",
       "      <td>X360</td>\n",
       "      <td>Action</td>\n",
       "      <td>Rockstar Games</td>\n",
       "      <td>Rockstar North</td>\n",
       "      <td>NaN</td>\n",
       "      <td>15.86</td>\n",
       "      <td>9.06</td>\n",
       "      <td>0.06</td>\n",
       "      <td>5.33</td>\n",
       "      <td>1.42</td>\n",
       "      <td>2013-09-17</td>\n",
       "      <td>NaN</td>\n",
       "    </tr>\n",
       "    <tr>\n",
       "      <th>4</th>\n",
       "      <td>Call of Duty: Black Ops 3</td>\n",
       "      <td>PS4</td>\n",
       "      <td>Shooter</td>\n",
       "      <td>Activision</td>\n",
       "      <td>Treyarch</td>\n",
       "      <td>8.1</td>\n",
       "      <td>15.09</td>\n",
       "      <td>6.18</td>\n",
       "      <td>0.41</td>\n",
       "      <td>6.05</td>\n",
       "      <td>2.44</td>\n",
       "      <td>2015-11-06</td>\n",
       "      <td>2018-01-14</td>\n",
       "    </tr>\n",
       "  </tbody>\n",
       "</table>\n",
       "</div>"
      ],
      "text/plain": [
       "                         title console    genre       publisher  \\\n",
       "0           Grand Theft Auto V     PS3   Action  Rockstar Games   \n",
       "1           Grand Theft Auto V     PS4   Action  Rockstar Games   \n",
       "2  Grand Theft Auto: Vice City     PS2   Action  Rockstar Games   \n",
       "3           Grand Theft Auto V    X360   Action  Rockstar Games   \n",
       "4    Call of Duty: Black Ops 3     PS4  Shooter      Activision   \n",
       "\n",
       "        developer  critic_score  total_sales  na_sales  jp_sales  pal_sales  \\\n",
       "0  Rockstar North           9.4        20.32      6.37      0.99       9.85   \n",
       "1  Rockstar North           9.7        19.39      6.06      0.60       9.71   \n",
       "2  Rockstar North           9.6        16.15      8.41      0.47       5.49   \n",
       "3  Rockstar North           NaN        15.86      9.06      0.06       5.33   \n",
       "4        Treyarch           8.1        15.09      6.18      0.41       6.05   \n",
       "\n",
       "   other_sales release_date last_update  \n",
       "0         3.12   2013-09-17         NaN  \n",
       "1         3.02   2014-11-18  2018-01-03  \n",
       "2         1.78   2002-10-28         NaN  \n",
       "3         1.42   2013-09-17         NaN  \n",
       "4         2.44   2015-11-06  2018-01-14  "
      ]
     },
     "execution_count": 12,
     "metadata": {},
     "output_type": "execute_result"
    }
   ],
   "source": [
    "df.head()"
   ]
  },
  {
   "cell_type": "code",
   "execution_count": 13,
   "metadata": {},
   "outputs": [
    {
     "data": {
      "text/html": [
       "<div>\n",
       "<style scoped>\n",
       "    .dataframe tbody tr th:only-of-type {\n",
       "        vertical-align: middle;\n",
       "    }\n",
       "\n",
       "    .dataframe tbody tr th {\n",
       "        vertical-align: top;\n",
       "    }\n",
       "\n",
       "    .dataframe thead th {\n",
       "        text-align: right;\n",
       "    }\n",
       "</style>\n",
       "<table border=\"1\" class=\"dataframe\">\n",
       "  <thead>\n",
       "    <tr style=\"text-align: right;\">\n",
       "      <th></th>\n",
       "      <th>critic_score</th>\n",
       "      <th>total_sales</th>\n",
       "      <th>na_sales</th>\n",
       "      <th>jp_sales</th>\n",
       "      <th>pal_sales</th>\n",
       "      <th>other_sales</th>\n",
       "    </tr>\n",
       "  </thead>\n",
       "  <tbody>\n",
       "    <tr>\n",
       "      <th>count</th>\n",
       "      <td>6678.000000</td>\n",
       "      <td>18922.000000</td>\n",
       "      <td>12637.000000</td>\n",
       "      <td>6726.000000</td>\n",
       "      <td>12824.000000</td>\n",
       "      <td>15128.000000</td>\n",
       "    </tr>\n",
       "    <tr>\n",
       "      <th>mean</th>\n",
       "      <td>7.220440</td>\n",
       "      <td>0.349113</td>\n",
       "      <td>0.264740</td>\n",
       "      <td>0.102281</td>\n",
       "      <td>0.149472</td>\n",
       "      <td>0.043041</td>\n",
       "    </tr>\n",
       "    <tr>\n",
       "      <th>std</th>\n",
       "      <td>1.457066</td>\n",
       "      <td>0.807462</td>\n",
       "      <td>0.494787</td>\n",
       "      <td>0.168811</td>\n",
       "      <td>0.392653</td>\n",
       "      <td>0.126643</td>\n",
       "    </tr>\n",
       "    <tr>\n",
       "      <th>min</th>\n",
       "      <td>1.000000</td>\n",
       "      <td>0.000000</td>\n",
       "      <td>0.000000</td>\n",
       "      <td>0.000000</td>\n",
       "      <td>0.000000</td>\n",
       "      <td>0.000000</td>\n",
       "    </tr>\n",
       "    <tr>\n",
       "      <th>25%</th>\n",
       "      <td>6.400000</td>\n",
       "      <td>0.030000</td>\n",
       "      <td>0.050000</td>\n",
       "      <td>0.020000</td>\n",
       "      <td>0.010000</td>\n",
       "      <td>0.000000</td>\n",
       "    </tr>\n",
       "    <tr>\n",
       "      <th>50%</th>\n",
       "      <td>7.500000</td>\n",
       "      <td>0.120000</td>\n",
       "      <td>0.120000</td>\n",
       "      <td>0.040000</td>\n",
       "      <td>0.040000</td>\n",
       "      <td>0.010000</td>\n",
       "    </tr>\n",
       "    <tr>\n",
       "      <th>75%</th>\n",
       "      <td>8.300000</td>\n",
       "      <td>0.340000</td>\n",
       "      <td>0.280000</td>\n",
       "      <td>0.120000</td>\n",
       "      <td>0.140000</td>\n",
       "      <td>0.030000</td>\n",
       "    </tr>\n",
       "    <tr>\n",
       "      <th>max</th>\n",
       "      <td>10.000000</td>\n",
       "      <td>20.320000</td>\n",
       "      <td>9.760000</td>\n",
       "      <td>2.130000</td>\n",
       "      <td>9.850000</td>\n",
       "      <td>3.120000</td>\n",
       "    </tr>\n",
       "  </tbody>\n",
       "</table>\n",
       "</div>"
      ],
      "text/plain": [
       "       critic_score   total_sales      na_sales     jp_sales     pal_sales  \\\n",
       "count   6678.000000  18922.000000  12637.000000  6726.000000  12824.000000   \n",
       "mean       7.220440      0.349113      0.264740     0.102281      0.149472   \n",
       "std        1.457066      0.807462      0.494787     0.168811      0.392653   \n",
       "min        1.000000      0.000000      0.000000     0.000000      0.000000   \n",
       "25%        6.400000      0.030000      0.050000     0.020000      0.010000   \n",
       "50%        7.500000      0.120000      0.120000     0.040000      0.040000   \n",
       "75%        8.300000      0.340000      0.280000     0.120000      0.140000   \n",
       "max       10.000000     20.320000      9.760000     2.130000      9.850000   \n",
       "\n",
       "        other_sales  \n",
       "count  15128.000000  \n",
       "mean       0.043041  \n",
       "std        0.126643  \n",
       "min        0.000000  \n",
       "25%        0.000000  \n",
       "50%        0.010000  \n",
       "75%        0.030000  \n",
       "max        3.120000  "
      ]
     },
     "execution_count": 13,
     "metadata": {},
     "output_type": "execute_result"
    }
   ],
   "source": [
    "df.describe()"
   ]
  },
  {
   "cell_type": "code",
   "execution_count": 14,
   "metadata": {},
   "outputs": [
    {
     "name": "stdout",
     "output_type": "stream",
     "text": [
      "<class 'pandas.core.frame.DataFrame'>\n",
      "RangeIndex: 64016 entries, 0 to 64015\n",
      "Data columns (total 13 columns):\n",
      " #   Column        Non-Null Count  Dtype  \n",
      "---  ------        --------------  -----  \n",
      " 0   title         64016 non-null  object \n",
      " 1   console       64016 non-null  object \n",
      " 2   genre         64016 non-null  object \n",
      " 3   publisher     64016 non-null  object \n",
      " 4   developer     63999 non-null  object \n",
      " 5   critic_score  6678 non-null   float64\n",
      " 6   total_sales   18922 non-null  float64\n",
      " 7   na_sales      12637 non-null  float64\n",
      " 8   jp_sales      6726 non-null   float64\n",
      " 9   pal_sales     12824 non-null  float64\n",
      " 10  other_sales   15128 non-null  float64\n",
      " 11  release_date  56965 non-null  object \n",
      " 12  last_update   17879 non-null  object \n",
      "dtypes: float64(6), object(7)\n",
      "memory usage: 6.3+ MB\n"
     ]
    }
   ],
   "source": [
    "df.info()"
   ]
  },
  {
   "cell_type": "markdown",
   "metadata": {},
   "source": [
    "# Determining **District** Values"
   ]
  },
  {
   "cell_type": "code",
   "execution_count": 22,
   "metadata": {},
   "outputs": [
    {
     "data": {
      "text/plain": [
       "array(['Grand Theft Auto V', 'Grand Theft Auto: Vice City',\n",
       "       'Call of Duty: Black Ops 3', ..., 'Yoru, Tomosu',\n",
       "       'Yunohana SpRING! ~Mellow Times~',\n",
       "       'Yurukill: The Calumniation Games'], shape=(39798,), dtype=object)"
      ]
     },
     "execution_count": 22,
     "metadata": {},
     "output_type": "execute_result"
    }
   ],
   "source": [
    "df['title'].unique()"
   ]
  },
  {
   "cell_type": "code",
   "execution_count": 23,
   "metadata": {},
   "outputs": [
    {
     "data": {
      "text/plain": [
       "39798"
      ]
     },
     "execution_count": 23,
     "metadata": {},
     "output_type": "execute_result"
    }
   ],
   "source": [
    "df['title'].nunique()\n"
   ]
  },
  {
   "cell_type": "code",
   "execution_count": 24,
   "metadata": {},
   "outputs": [
    {
     "data": {
      "text/plain": [
       "array(['PS3', 'PS4', 'PS2', 'X360', 'XOne', 'PC', 'PSP', 'Wii', 'PS',\n",
       "       'DS', '2600', 'GBA', 'NES', 'XB', 'PSN', 'GEN', 'PSV', 'DC', 'N64',\n",
       "       'SAT', 'SNES', 'GBC', 'GC', 'NS', '3DS', 'GB', 'WiiU', 'WS', 'VC',\n",
       "       'NG', 'WW', 'SCD', 'PCE', 'XBL', '3DO', 'GG', 'OSX', 'Mob', 'PCFX',\n",
       "       'Series', 'All', 'iOS', '5200', 'And', 'DSiW', 'Lynx', 'Linux',\n",
       "       'MS', 'ZXS', 'ACPC', 'Amig', '7800', 'DSi', 'AJ', 'WinP', 'iQue',\n",
       "       'GIZ', 'VB', 'Ouya', 'NGage', 'AST', 'MSD', 'S32X', 'XS', 'PS5',\n",
       "       'Int', 'CV', 'Arc', 'C64', 'FDS', 'MSX', 'OR', 'C128', 'CDi',\n",
       "       'CD32', 'BRW', 'FMT', 'ApII', 'Aco', 'BBCM', 'TG16'], dtype=object)"
      ]
     },
     "execution_count": 24,
     "metadata": {},
     "output_type": "execute_result"
    }
   ],
   "source": [
    "df['console'].unique()"
   ]
  },
  {
   "cell_type": "code",
   "execution_count": 25,
   "metadata": {},
   "outputs": [
    {
     "data": {
      "text/plain": [
       "81"
      ]
     },
     "execution_count": 25,
     "metadata": {},
     "output_type": "execute_result"
    }
   ],
   "source": [
    "df['console'].nunique()"
   ]
  },
  {
   "cell_type": "code",
   "execution_count": 26,
   "metadata": {},
   "outputs": [
    {
     "data": {
      "text/plain": [
       "array(['Action', 'Shooter', 'Action-Adventure', 'Sports', 'Role-Playing',\n",
       "       'Simulation', 'Racing', 'Music', 'Misc', 'Fighting', 'Platform',\n",
       "       'Adventure', 'Strategy', 'Puzzle', 'MMO', 'Sandbox', 'Party',\n",
       "       'Education', 'Board Game', 'Visual Novel'], dtype=object)"
      ]
     },
     "execution_count": 26,
     "metadata": {},
     "output_type": "execute_result"
    }
   ],
   "source": [
    "df['genre'].unique()"
   ]
  },
  {
   "cell_type": "code",
   "execution_count": 27,
   "metadata": {},
   "outputs": [
    {
     "data": {
      "text/plain": [
       "20"
      ]
     },
     "execution_count": 27,
     "metadata": {},
     "output_type": "execute_result"
    }
   ],
   "source": [
    "df['genre'].nunique()"
   ]
  },
  {
   "cell_type": "code",
   "execution_count": 28,
   "metadata": {},
   "outputs": [
    {
     "data": {
      "text/plain": [
       "array(['Rockstar Games', 'Activision', 'EA Sports', ...,\n",
       "       \"Mind's Eclipse Interactive\", 'Walkabout', 'InvertMouse'],\n",
       "      shape=(3383,), dtype=object)"
      ]
     },
     "execution_count": 28,
     "metadata": {},
     "output_type": "execute_result"
    }
   ],
   "source": [
    "df['publisher'].unique()"
   ]
  },
  {
   "cell_type": "code",
   "execution_count": 29,
   "metadata": {},
   "outputs": [
    {
     "data": {
      "text/plain": [
       "3383"
      ]
     },
     "execution_count": 29,
     "metadata": {},
     "output_type": "execute_result"
    }
   ],
   "source": [
    "df['publisher'].nunique()"
   ]
  },
  {
   "cell_type": "code",
   "execution_count": 30,
   "metadata": {},
   "outputs": [
    {
     "data": {
      "text/plain": [
       "array(['Rockstar North', 'Treyarch', 'Infinity Ward', ...,\n",
       "       'Different Tales', '4D Door Games', 'InvertMouse'],\n",
       "      shape=(8863,), dtype=object)"
      ]
     },
     "execution_count": 30,
     "metadata": {},
     "output_type": "execute_result"
    }
   ],
   "source": [
    "df['developer'].unique()"
   ]
  },
  {
   "cell_type": "code",
   "execution_count": 31,
   "metadata": {},
   "outputs": [
    {
     "data": {
      "text/plain": [
       "8862"
      ]
     },
     "execution_count": 31,
     "metadata": {},
     "output_type": "execute_result"
    }
   ],
   "source": [
    "df['developer'].nunique()"
   ]
  },
  {
   "cell_type": "code",
   "execution_count": 32,
   "metadata": {},
   "outputs": [
    {
     "data": {
      "text/plain": [
       "array([ 9.4,  9.7,  9.6,  nan,  8.1,  8.7,  8.8,  9.8,  8.4,  8. ,  9.5,\n",
       "        8.3, 10. ,  8.9,  6.9,  7.5,  9.3,  9. ,  7.9,  8.6,  8.5,  7.1,\n",
       "        9.1,  9.2,  6.6,  8.2,  7.6,  5.9,  7. ,  7.8,  7.7,  6.8,  5.6,\n",
       "        4.2,  7.4,  7.3,  6.7,  7.2,  6.1,  6.2,  3.5,  3. ,  3.6,  6.5,\n",
       "        2.6,  6. ,  5.5,  5.8,  4.8,  5.4,  6.3,  6.4,  4.4,  3.2,  5. ,\n",
       "        3.8,  5.1,  4.3,  4.5,  4.9,  5.3,  4.6,  5.7,  2.9,  4.7,  1.7,\n",
       "        4.1,  4. ,  3.9,  5.2,  3.7,  2.8,  3.1,  3.3,  1.9,  2.5,  2.4,\n",
       "        2. ,  2.7,  3.4,  2.3,  1.5,  1. ,  2.2,  1.4,  1.3,  9.9,  1.2,\n",
       "        1.8,  2.1])"
      ]
     },
     "execution_count": 32,
     "metadata": {},
     "output_type": "execute_result"
    }
   ],
   "source": [
    "df['critic_score'].unique()"
   ]
  },
  {
   "cell_type": "code",
   "execution_count": 33,
   "metadata": {},
   "outputs": [
    {
     "data": {
      "text/plain": [
       "89"
      ]
     },
     "execution_count": 33,
     "metadata": {},
     "output_type": "execute_result"
    }
   ],
   "source": [
    "df['critic_score'].nunique()"
   ]
  },
  {
   "cell_type": "code",
   "execution_count": 34,
   "metadata": {},
   "outputs": [
    {
     "data": {
      "text/plain": [
       "array([2.032e+01, 1.939e+01, 1.615e+01, 1.586e+01, 1.509e+01, 1.482e+01,\n",
       "       1.474e+01, 1.394e+01, 1.386e+01, 1.380e+01, 1.353e+01, 1.340e+01,\n",
       "       1.335e+01, 1.310e+01, 1.267e+01, 1.180e+01, 1.109e+01, 1.094e+01,\n",
       "       1.061e+01, 1.057e+01, 1.041e+01, 1.013e+01, 9.970e+00, 9.960e+00,\n",
       "       9.410e+00, 9.320e+00, 9.150e+00, 8.880e+00, 8.720e+00, 8.480e+00,\n",
       "       8.220e+00, 8.030e+00, 8.010e+00, 7.960e+00, 7.720e+00, 7.530e+00,\n",
       "       7.500e+00, 7.370e+00, 7.350e+00, 7.260e+00, 7.210e+00, 7.200e+00,\n",
       "       6.900e+00, 6.890e+00, 6.830e+00, 6.740e+00, 6.720e+00, 6.650e+00,\n",
       "       6.610e+00, 6.570e+00, 6.500e+00, 6.490e+00, 6.330e+00, 6.320e+00,\n",
       "       6.270e+00, 6.230e+00, 6.050e+00, 5.770e+00, 5.760e+00, 5.740e+00,\n",
       "       5.660e+00, 5.570e+00, 5.550e+00, 5.540e+00, 5.500e+00, 5.430e+00,\n",
       "       5.420e+00, 5.350e+00, 5.310e+00, 5.300e+00, 5.240e+00, 5.230e+00,\n",
       "       5.220e+00, 5.130e+00, 5.120e+00, 5.110e+00, 5.100e+00, 5.080e+00,\n",
       "       5.070e+00, 5.030e+00, 5.020e+00, 5.010e+00, 4.980e+00, 4.970e+00,\n",
       "       4.960e+00, 4.910e+00, 4.850e+00, 4.830e+00, 4.790e+00, 4.770e+00,\n",
       "       4.750e+00, 4.730e+00, 4.700e+00, 4.680e+00, 4.670e+00, 4.630e+00,\n",
       "       4.600e+00, 4.560e+00, 4.540e+00, 4.530e+00, 4.480e+00, 4.470e+00,\n",
       "       4.410e+00, 4.390e+00, 4.370e+00, 4.360e+00, 4.340e+00, 4.320e+00,\n",
       "       4.310e+00, 4.280e+00, 4.270e+00, 4.240e+00, 4.230e+00, 4.220e+00,\n",
       "       4.210e+00, 4.190e+00, 4.180e+00, 4.170e+00, 4.160e+00, 4.150e+00,\n",
       "       4.140e+00, 4.110e+00, 4.100e+00, 4.080e+00, 4.060e+00, 4.050e+00,\n",
       "       4.000e+00, 3.990e+00, 3.980e+00, 3.950e+00, 3.940e+00, 3.900e+00,\n",
       "       3.890e+00, 3.880e+00, 3.850e+00, 3.840e+00, 3.760e+00, 3.750e+00,\n",
       "       3.710e+00, 3.700e+00, 3.670e+00, 3.660e+00, 3.650e+00, 3.640e+00,\n",
       "       3.630e+00, 3.620e+00, 3.610e+00, 3.600e+00, 3.590e+00, 3.580e+00,\n",
       "       3.540e+00, 3.530e+00, 3.520e+00, 3.490e+00, 3.480e+00, 3.470e+00,\n",
       "       3.460e+00, 3.440e+00, 3.430e+00, 3.420e+00, 3.410e+00, 3.400e+00,\n",
       "       3.390e+00, 3.380e+00, 3.360e+00, 3.340e+00, 3.330e+00, 3.320e+00,\n",
       "       3.310e+00, 3.300e+00, 3.280e+00, 3.270e+00, 3.250e+00, 3.210e+00,\n",
       "       3.200e+00, 3.190e+00, 3.180e+00, 3.170e+00, 3.140e+00, 3.130e+00,\n",
       "       3.120e+00, 3.110e+00, 3.100e+00, 3.080e+00, 3.070e+00, 3.060e+00,\n",
       "       3.050e+00, 3.040e+00, 3.030e+00, 3.020e+00, 3.000e+00, 2.990e+00,\n",
       "       2.980e+00, 2.960e+00, 2.950e+00, 2.940e+00, 2.930e+00, 2.920e+00,\n",
       "       2.910e+00, 2.900e+00, 2.890e+00, 2.870e+00, 2.860e+00, 2.850e+00,\n",
       "       2.830e+00, 2.820e+00, 2.810e+00, 2.790e+00, 2.770e+00, 2.760e+00,\n",
       "       2.740e+00, 2.730e+00, 2.720e+00, 2.710e+00, 2.700e+00, 2.690e+00,\n",
       "       2.680e+00, 2.670e+00, 2.660e+00, 2.650e+00, 2.640e+00, 2.630e+00,\n",
       "       2.620e+00, 2.610e+00, 2.600e+00, 2.590e+00, 2.580e+00, 2.570e+00,\n",
       "       2.560e+00, 2.550e+00, 2.540e+00, 2.520e+00, 2.510e+00, 2.500e+00,\n",
       "       2.490e+00, 2.480e+00, 2.470e+00, 2.450e+00, 2.440e+00, 2.430e+00,\n",
       "       2.420e+00, 2.410e+00, 2.400e+00, 2.390e+00, 2.380e+00, 2.370e+00,\n",
       "       2.360e+00, 2.350e+00, 2.340e+00, 2.330e+00, 2.320e+00, 2.310e+00,\n",
       "       2.290e+00, 2.280e+00, 2.270e+00, 2.260e+00, 2.250e+00, 2.240e+00,\n",
       "       2.230e+00, 2.220e+00, 2.210e+00, 2.200e+00, 2.190e+00, 2.180e+00,\n",
       "       2.170e+00, 2.160e+00, 2.150e+00, 2.140e+00, 2.130e+00, 2.120e+00,\n",
       "       2.110e+00, 2.100e+00, 2.090e+00, 2.080e+00, 2.070e+00, 2.060e+00,\n",
       "       2.050e+00, 2.040e+00, 2.030e+00, 2.020e+00, 2.010e+00, 2.000e+00,\n",
       "       1.990e+00, 1.980e+00, 1.970e+00, 1.960e+00, 1.950e+00, 1.940e+00,\n",
       "       1.930e+00, 1.920e+00, 1.910e+00, 1.900e+00, 1.890e+00, 1.880e+00,\n",
       "       1.870e+00, 1.860e+00, 1.850e+00, 1.840e+00, 1.830e+00, 1.820e+00,\n",
       "       1.810e+00, 1.800e+00, 1.790e+00, 1.780e+00, 1.770e+00, 1.760e+00,\n",
       "       1.750e+00, 1.740e+00, 1.730e+00, 1.720e+00, 1.710e+00, 1.700e+00,\n",
       "       1.690e+00, 1.680e+00, 1.670e+00, 1.660e+00, 1.650e+00, 1.640e+00,\n",
       "       1.630e+00, 1.620e+00, 1.610e+00, 1.600e+00, 1.590e+00, 1.580e+00,\n",
       "       1.570e+00, 1.560e+00, 1.550e+00, 1.540e+00, 1.530e+00, 1.520e+00,\n",
       "       1.510e+00, 1.500e+00, 1.490e+00, 1.480e+00, 1.470e+00, 1.460e+00,\n",
       "       1.450e+00, 1.440e+00, 1.430e+00, 1.420e+00, 1.410e+00, 1.400e+00,\n",
       "       1.390e+00, 1.380e+00, 1.370e+00, 1.360e+00, 1.350e+00, 1.340e+00,\n",
       "       1.330e+00, 1.320e+00, 1.310e+00, 1.300e+00, 1.290e+00, 1.280e+00,\n",
       "       1.270e+00, 1.260e+00, 1.250e+00, 1.240e+00, 1.230e+00, 1.220e+00,\n",
       "       1.210e+00, 1.200e+00, 1.190e+00, 1.180e+00, 1.170e+00, 1.160e+00,\n",
       "       1.150e+00, 1.140e+00, 1.130e+00, 1.120e+00, 1.110e+00, 1.100e+00,\n",
       "       1.090e+00, 1.080e+00, 1.070e+00, 1.060e+00, 1.050e+00, 1.040e+00,\n",
       "       1.030e+00, 1.020e+00, 1.010e+00, 1.000e+00, 9.900e-01, 9.800e-01,\n",
       "       9.700e-01, 9.600e-01, 9.500e-01, 9.400e-01, 9.300e-01, 9.200e-01,\n",
       "       9.100e-01, 9.000e-01, 8.900e-01, 8.800e-01, 8.700e-01, 8.600e-01,\n",
       "       8.500e-01, 8.400e-01, 8.300e-01, 8.200e-01, 8.100e-01, 8.000e-01,\n",
       "       7.900e-01, 7.800e-01, 7.700e-01, 7.600e-01, 7.500e-01, 7.400e-01,\n",
       "       7.300e-01, 7.200e-01, 7.100e-01, 7.000e-01, 6.900e-01, 6.800e-01,\n",
       "       6.700e-01, 6.600e-01, 6.500e-01, 6.400e-01, 6.300e-01, 6.200e-01,\n",
       "       6.100e-01, 6.000e-01, 5.900e-01, 5.800e-01, 5.700e-01, 5.600e-01,\n",
       "       5.500e-01, 5.400e-01, 5.300e-01, 5.200e-01, 5.100e-01, 5.000e-01,\n",
       "       4.900e-01, 4.800e-01, 4.700e-01, 4.600e-01, 4.500e-01, 4.400e-01,\n",
       "       4.300e-01, 4.200e-01, 4.100e-01, 4.000e-01, 3.900e-01, 3.800e-01,\n",
       "       3.700e-01, 3.600e-01, 3.500e-01, 3.400e-01, 3.300e-01, 3.200e-01,\n",
       "       3.100e-01, 3.000e-01, 2.900e-01, 2.800e-01, 2.700e-01, 2.600e-01,\n",
       "       2.500e-01, 2.400e-01, 2.300e-01, 2.200e-01, 2.100e-01, 2.000e-01,\n",
       "       1.900e-01, 1.800e-01, 1.700e-01, 1.600e-01, 1.500e-01, 1.400e-01,\n",
       "       1.300e-01, 1.200e-01, 1.100e-01, 1.000e-01, 9.000e-02, 8.000e-02,\n",
       "       7.000e-02, 6.000e-02, 5.000e-02, 4.000e-02, 3.000e-02, 2.000e-02,\n",
       "       1.000e-02, 0.000e+00,       nan])"
      ]
     },
     "execution_count": 34,
     "metadata": {},
     "output_type": "execute_result"
    }
   ],
   "source": [
    "df['total_sales'].unique()"
   ]
  },
  {
   "cell_type": "code",
   "execution_count": 35,
   "metadata": {},
   "outputs": [
    {
     "data": {
      "text/plain": [
       "482"
      ]
     },
     "execution_count": 35,
     "metadata": {},
     "output_type": "execute_result"
    }
   ],
   "source": [
    "df['total_sales'].nunique()"
   ]
  },
  {
   "cell_type": "code",
   "execution_count": 36,
   "metadata": {},
   "outputs": [
    {
     "data": {
      "text/plain": [
       "array([6.37, 6.06, 8.41, 9.06, 6.18, 9.07, 9.76, 5.26, 8.27, 4.99, 8.54,\n",
       "       4.67, 5.54, 6.99, 6.01, 1.27, 6.8 , 1.26, 4.79, 6.76, 4.11, 7.08,\n",
       "       6.72, 5.98, 4.05, 0.84, 5.1 , 4.7 , 3.11, 2.91, 1.15, 3.31, 1.07,\n",
       "       1.01, 2.9 , 2.84, 4.88, 4.63, 4.47, 2.2 , 2.86, 3.27, 2.71, 2.93,\n",
       "       3.28, 3.13, 0.79, 2.82, 3.77, 2.65, 2.57, 1.89, 0.83, 3.75, 2.21,\n",
       "       3.76, 2.53, 2.26, 3.57, 3.09, 2.54, 2.72, 2.99, 2.75, 3.23, 2.07,\n",
       "       1.75, 3.14, 2.3 , 4.26, 3.25, 1.98, 3.37, 3.22, 3.81, 1.1 , 1.63,\n",
       "       3.59, 1.96, 0.61, 1.7 , 1.81, 2.94, 3.42, 2.79, 3.49, 2.32, 3.41,\n",
       "       3.98, 1.91, 1.09, 2.83, 2.36, 1.73, 3.05, 1.94, 2.29, 2.08, 3.04,\n",
       "       0.59, 1.87, 1.84, 3.19, 4.18, 2.89, 2.66, 0.1 , 1.49, 2.03, 2.64,\n",
       "       1.29, 2.81, 1.4 , 4.  , 1.59, 3.  , 1.41, 2.28, 0.78, 2.04, 0.85,\n",
       "       1.79, 3.38, 3.79, 0.94, 2.49, 3.36, 1.25, 1.92, 0.71, 1.65, 1.2 ,\n",
       "       2.67, 2.12, 1.18, 1.22, 0.12, 2.35, 1.68, 2.18, 2.56, 1.44, 1.34,\n",
       "       2.15, 0.16, 2.4 , 1.04, 0.58, 2.13, 1.58, 1.31, 0.05, 0.6 , 2.02,\n",
       "       1.93, 2.05, 0.9 , 2.34, 2.01, 1.6 , 1.23, 1.66, 1.56, 2.16, 2.24,\n",
       "       2.87, 1.9 , 2.43, 2.11, 1.21, 2.1 , 1.55, 2.06, 1.83, 0.62, 1.13,\n",
       "       2.17, 0.46, 1.24, 0.98, 2.47, 1.45, 1.47, 1.99, 2.39, 1.5 , 0.51,\n",
       "       0.88, 0.92, 1.72, 1.76, 1.78, 1.54, 0.68, 1.69, 2.14, 1.88, 2.62,\n",
       "       1.8 , 2.5 , 0.97, 1.85, 1.57, 1.67, 1.38, 1.36, 1.33, 0.93, 0.8 ,\n",
       "       1.51, 0.99, 1.3 , 0.09, 0.72, 2.09, 2.52, 1.32, 1.52, 0.43, 1.28,\n",
       "       1.05, 1.46, 2.19, 1.35, 1.19, 0.29, 1.74, 0.89, 0.63, 1.62, 2.38,\n",
       "       1.95, 1.48, 0.86, 0.69, 2.  , 0.65, 1.08, 1.86, 0.49, 1.53, 0.26,\n",
       "       0.13, 0.22, 0.87, 0.96, 1.39, 1.02, 0.91, 0.3 , 0.38, 1.06, 1.17,\n",
       "       0.56, 1.03, 0.15, 0.64, 0.34, 0.75, 0.36, 0.52, 1.64, 0.11, 1.77,\n",
       "       1.  , 1.11,  nan, 0.74, 0.48, 0.73, 0.82, 0.37, 0.95, 0.53, 1.12,\n",
       "       0.5 , 0.77, 1.42, 0.76, 0.25, 0.47, 0.44, 0.39, 1.14, 0.41, 0.45,\n",
       "       0.06, 0.35, 0.27, 1.43, 1.16, 1.61, 0.7 , 0.23, 1.37, 0.81, 0.54,\n",
       "       0.04, 0.57, 0.42, 0.18, 0.66, 0.02, 0.03, 0.67, 0.55, 0.24, 0.14,\n",
       "       0.2 , 0.31, 0.4 , 0.33, 0.32, 0.01, 0.21, 0.28, 0.08, 0.17, 0.  ,\n",
       "       0.07, 0.19])"
      ]
     },
     "execution_count": 36,
     "metadata": {},
     "output_type": "execute_result"
    }
   ],
   "source": [
    "df['na_sales'].unique()"
   ]
  },
  {
   "cell_type": "code",
   "execution_count": 37,
   "metadata": {},
   "outputs": [
    {
     "data": {
      "text/plain": [
       "320"
      ]
     },
     "execution_count": 37,
     "metadata": {},
     "output_type": "execute_result"
    }
   ],
   "source": [
    "df['na_sales'].nunique()"
   ]
  },
  {
   "cell_type": "code",
   "execution_count": 38,
   "metadata": {},
   "outputs": [
    {
     "data": {
      "text/plain": [
       "array([0.99, 0.6 , 0.47, 0.06, 0.41, 0.13, 0.11, 0.21, 0.07, 0.65, 0.08,\n",
       "       0.4 , 0.49, 0.3 , 0.48, 0.15, 0.14, 0.12, 0.38, 0.44, 0.04, 0.39,\n",
       "       0.5 , 0.1 , 0.01, 0.19, 0.27, 0.23,  nan, 0.24, 0.02, 0.29, 0.35,\n",
       "       0.17, 0.28, 0.09, 0.16, 0.25, 0.05, 1.36, 1.87, 0.03, 0.2 , 1.08,\n",
       "       1.05, 0.  , 0.22, 0.36, 0.59, 0.31, 0.9 , 0.51, 1.12, 0.64, 0.33,\n",
       "       0.88, 1.16, 1.38, 2.13, 0.89, 0.26, 0.18, 1.25, 0.46, 0.54, 2.05,\n",
       "       0.55, 0.96, 0.79, 1.43, 0.63, 1.3 , 0.52, 1.48, 0.42, 1.82, 0.72,\n",
       "       0.53, 1.34, 1.69, 0.32, 0.34, 1.27, 1.5 , 1.44, 1.45, 1.39, 1.  ,\n",
       "       1.26, 0.85, 1.1 , 0.75, 0.62, 1.2 , 1.18, 0.83, 0.77, 0.43, 1.07,\n",
       "       1.15, 0.76, 1.06, 0.45, 0.71, 1.04, 0.92, 0.37, 0.74, 0.57, 0.66,\n",
       "       0.91, 0.87, 0.81, 0.8 , 0.78, 0.73, 0.61, 0.67, 0.7 , 0.58, 0.69,\n",
       "       0.56])"
      ]
     },
     "execution_count": 38,
     "metadata": {},
     "output_type": "execute_result"
    }
   ],
   "source": [
    "df['jp_sales'].unique()"
   ]
  },
  {
   "cell_type": "code",
   "execution_count": 39,
   "metadata": {},
   "outputs": [
    {
     "data": {
      "text/plain": [
       "121"
      ]
     },
     "execution_count": 39,
     "metadata": {},
     "output_type": "execute_result"
    }
   ],
   "source": [
    "df['jp_sales'].nunique()"
   ]
  },
  {
   "cell_type": "code",
   "execution_count": 40,
   "metadata": {},
   "outputs": [
    {
     "data": {
      "text/plain": [
       "array([9.85, 9.71, 5.49, 5.33, 6.05, 4.29, 3.73, 6.21, 4.32, 5.88, 3.63,\n",
       "       5.78, 4.51, 4.4 , 8.64, 3.11, 7.95, 3.66, 2.64, 4.01, 2.01, 2.36,\n",
       "       2.39, 3.28, 6.87, 2.83, 3.25, 3.83, 3.97, 5.77, 3.19, 5.13, 6.46,\n",
       "       3.34, 1.91, 2.04, 2.12, 3.65, 2.94, 3.02, 2.21, 2.75, 2.22, 2.27,\n",
       "       4.33, 4.77, 2.58, 2.03, 2.61, 2.68, 3.13, 4.49, 2.8 , 2.86, 1.47,\n",
       "       2.13, 1.89, 1.57, 1.92, 1.95, 1.64, 1.9 , 1.84, 1.71, 2.29, 1.23,\n",
       "       1.55, 2.46, 0.26, 1.49, 2.23, 1.26, 1.69, 0.63, 3.49, 1.09, 1.42,\n",
       "       1.53, 1.62, 1.38, 0.01, 1.73, 0.99, 1.12, 2.92, 1.44, 1.28, 2.1 ,\n",
       "       2.19, 1.41, 1.97, 1.98, 1.8 , 0.91, 1.99, 1.51, 1.03, 1.29, 1.79,\n",
       "       1.33, 2.06, 1.13, 1.81, 1.11, 2.55, 1.05, 2.79, 0.44, 0.27, 0.21,\n",
       "       2.16, 2.48, 1.68, 2.6 , 2.14, 2.11, 2.26, 1.27, 1.15, 2.25, 0.66,\n",
       "       1.35, 1.74, 1.86, 1.17, 1.66, 1.01, 1.56, 1.4 , 2.4 , 1.18, 1.6 ,\n",
       "       1.22, 0.81, 1.5 , 0.  , 0.96, 1.02, 0.9 , 1.77, 1.58, 0.95, 0.93,\n",
       "       0.39, 1.14, 0.59, 0.94, 0.72, 1.63, 1.04, 1.07, 2.18, 2.07, 0.92,\n",
       "       1.2 , 2.28, 0.76, 0.57, 1.39, 0.31, 0.37, 1.59, 1.31, 1.21, 0.97,\n",
       "       1.25, 0.86, 0.98, 0.16, 0.79, 0.88, 0.84, 0.7 , 0.77, 1.48, 0.54,\n",
       "       0.32, 2.43, 1.67, 0.09, 0.85, 1.08, 1.19, 1.24, 0.87, 0.22, 0.2 ,\n",
       "       0.78, 1.52, 1.61, 0.24, 0.11, 0.64, 0.12, 0.75, 0.8 , 0.14, 0.47,\n",
       "       0.46, 0.42, 0.55, 0.82, 0.83, 0.08, 0.19, 0.17, 1.45, 0.07, 0.02,\n",
       "       0.56, 0.52, 1.06, 0.33, 0.73, 0.74, 0.04, 0.25, 0.58, 0.61, 0.71,\n",
       "       0.43, 0.15, 0.45, 0.1 , 0.18, 0.53, 0.13, 0.62, 1.  , 0.34, 0.6 ,\n",
       "        nan, 0.67, 0.69, 0.4 , 1.34, 0.65, 0.06, 0.49, 0.29, 0.41, 0.03,\n",
       "       0.23, 0.5 , 0.36, 0.48, 1.37, 0.05, 1.1 , 0.89, 0.51, 0.68, 0.28,\n",
       "       0.3 , 0.35, 0.38, 1.16])"
      ]
     },
     "execution_count": 40,
     "metadata": {},
     "output_type": "execute_result"
    }
   ],
   "source": [
    "df['pal_sales'].unique()"
   ]
  },
  {
   "cell_type": "code",
   "execution_count": 41,
   "metadata": {},
   "outputs": [
    {
     "data": {
      "text/plain": [
       "256"
      ]
     },
     "execution_count": 41,
     "metadata": {},
     "output_type": "execute_result"
    }
   ],
   "source": [
    "df['pal_sales'].nunique()"
   ]
  },
  {
   "cell_type": "code",
   "execution_count": 42,
   "metadata": {},
   "outputs": [
    {
     "data": {
      "text/plain": [
       "array([3.12, 3.02, 1.78, 1.42, 2.44, 1.33, 1.14, 2.26, 1.2 , 2.28, 1.28,\n",
       "       2.12, 1.54, 1.3 , 1.73, 1.04, 1.61, 1.59, 1.62, 0.98, 0.8 , 0.83,\n",
       "       0.91, 1.49, 1.34, 0.85, 0.76, 1.36, 1.23, 1.68, 0.5 , 1.74, 1.22,\n",
       "       0.71, 0.68, 0.69, 1.12, 1.07, 1.02, 1.09, 0.62, 0.99, 1.37, 1.  ,\n",
       "       0.6 , 1.08, 0.96, 0.94, 0.33, 0.57, 0.54, 0.23, 0.52, 0.58, 0.86,\n",
       "       0.56, 0.82, 0.51, 0.84, 0.49, 0.45, 0.28, 0.48, 0.2 , 0.37, 0.64,\n",
       "       1.19, 1.48, 0.46, 0.66, 0.74, 0.44, 0.21, 0.25, 0.79, 0.7 , 0.24,\n",
       "       0.73, 0.42, 0.08, 0.41, 0.47, 0.39, 0.05, 0.63, 0.67, 0.07, 0.04,\n",
       "       0.11, 0.29, 0.38, 0.65, 0.89, 0.3 , 0.34, 0.77, 0.06, 0.35, 0.61,\n",
       "       0.36, 0.17, 0.27, 0.59, 0.4 , 0.55, 2.93, 0.16, 0.18, 0.32, 0.31,\n",
       "       0.22, 0.43, 0.13, 0.19, 2.46, 0.14, 0.26, 1.16, 0.09,  nan, 2.05,\n",
       "       0.15, 0.1 , 0.02, 1.41, 1.82, 0.03, 0.12, 0.01, 1.13, 0.  , 0.93,\n",
       "       0.75, 0.53])"
      ]
     },
     "execution_count": 42,
     "metadata": {},
     "output_type": "execute_result"
    }
   ],
   "source": [
    "df['other_sales'].unique()"
   ]
  },
  {
   "cell_type": "code",
   "execution_count": 43,
   "metadata": {},
   "outputs": [
    {
     "data": {
      "text/plain": [
       "133"
      ]
     },
     "execution_count": 43,
     "metadata": {},
     "output_type": "execute_result"
    }
   ],
   "source": [
    "df['other_sales'].nunique()"
   ]
  },
  {
   "cell_type": "code",
   "execution_count": 45,
   "metadata": {},
   "outputs": [
    {
     "data": {
      "text/plain": [
       "array(['2013-09-17', '2014-11-18', '2002-10-28', ..., '2018-04-02',\n",
       "       '2021-03-24', '2016-08-11'], shape=(7923,), dtype=object)"
      ]
     },
     "execution_count": 45,
     "metadata": {},
     "output_type": "execute_result"
    }
   ],
   "source": [
    "df['release_date'].unique()"
   ]
  },
  {
   "cell_type": "code",
   "execution_count": 46,
   "metadata": {},
   "outputs": [
    {
     "data": {
      "text/plain": [
       "7922"
      ]
     },
     "execution_count": 46,
     "metadata": {},
     "output_type": "execute_result"
    }
   ],
   "source": [
    "df['release_date'].nunique()"
   ]
  },
  {
   "cell_type": "code",
   "execution_count": 47,
   "metadata": {},
   "outputs": [
    {
     "data": {
      "text/plain": [
       "array([nan, '2018-01-03', '2018-01-14', ..., '2020-05-03', '2021-04-13',\n",
       "       '2023-04-13'], shape=(1546,), dtype=object)"
      ]
     },
     "execution_count": 47,
     "metadata": {},
     "output_type": "execute_result"
    }
   ],
   "source": [
    "df['last_update'].unique()"
   ]
  },
  {
   "cell_type": "code",
   "execution_count": 48,
   "metadata": {},
   "outputs": [
    {
     "data": {
      "text/plain": [
       "1545"
      ]
     },
     "execution_count": 48,
     "metadata": {},
     "output_type": "execute_result"
    }
   ],
   "source": [
    "df['last_update'].nunique()"
   ]
  },
  {
   "cell_type": "markdown",
   "metadata": {},
   "source": [
    "# Data Cleaning"
   ]
  },
  {
   "cell_type": "markdown",
   "metadata": {},
   "source": [
    "<h2> Dropping NaN </h2>"
   ]
  },
  {
   "cell_type": "code",
   "execution_count": 51,
   "metadata": {},
   "outputs": [
    {
     "data": {
      "text/plain": [
       "title               0\n",
       "console             0\n",
       "genre               0\n",
       "publisher           0\n",
       "developer          17\n",
       "critic_score    57338\n",
       "total_sales     45094\n",
       "na_sales        51379\n",
       "jp_sales        57290\n",
       "pal_sales       51192\n",
       "other_sales     48888\n",
       "release_date     7051\n",
       "last_update     46137\n",
       "dtype: int64"
      ]
     },
     "execution_count": 51,
     "metadata": {},
     "output_type": "execute_result"
    }
   ],
   "source": [
    "df.isna().sum()\n"
   ]
  },
  {
   "cell_type": "code",
   "execution_count": 52,
   "metadata": {},
   "outputs": [],
   "source": [
    "df_c = df.copy()"
   ]
  },
  {
   "cell_type": "code",
   "execution_count": null,
   "metadata": {},
   "outputs": [
    {
     "data": {
      "text/plain": [
       "title               0\n",
       "console             0\n",
       "genre               0\n",
       "publisher           0\n",
       "developer           0\n",
       "critic_score    57321\n",
       "total_sales     45081\n",
       "na_sales        51364\n",
       "jp_sales        57273\n",
       "pal_sales       51178\n",
       "other_sales     48874\n",
       "release_date     7045\n",
       "last_update     46122\n",
       "dtype: int64"
      ]
     },
     "execution_count": 54,
     "metadata": {},
     "output_type": "execute_result"
    }
   ],
   "source": [
    "# Cleaning developer column\n",
    "df_c = df_c.dropna(subset=['developer'])\n",
    "df_c.isna().sum()"
   ]
  },
  {
   "cell_type": "code",
   "execution_count": 55,
   "metadata": {},
   "outputs": [
    {
     "data": {
      "text/plain": [
       "title              0\n",
       "console            0\n",
       "genre              0\n",
       "publisher          0\n",
       "developer          0\n",
       "critic_score       0\n",
       "total_sales     2552\n",
       "na_sales        2940\n",
       "jp_sales        5276\n",
       "pal_sales       2899\n",
       "other_sales     2675\n",
       "release_date      44\n",
       "last_update     5708\n",
       "dtype: int64"
      ]
     },
     "execution_count": 55,
     "metadata": {},
     "output_type": "execute_result"
    }
   ],
   "source": [
    "# Cleaning critic_score column\n",
    "df_c = df_c.dropna(subset=['critic_score'])\n",
    "df_c.isna().sum()"
   ]
  },
  {
   "cell_type": "code",
   "execution_count": 64,
   "metadata": {},
   "outputs": [
    {
     "data": {
      "text/plain": [
       "title              0\n",
       "console            0\n",
       "genre              0\n",
       "publisher          0\n",
       "developer          0\n",
       "critic_score       0\n",
       "total_sales        0\n",
       "na_sales         388\n",
       "jp_sales        2724\n",
       "pal_sales        347\n",
       "other_sales      123\n",
       "release_date       3\n",
       "last_update     3524\n",
       "dtype: int64"
      ]
     },
     "execution_count": 64,
     "metadata": {},
     "output_type": "execute_result"
    }
   ],
   "source": [
    "# Cleaning total_sales column\n",
    "df_c = df_c.dropna(subset=['total_sales'])\n",
    "df_c.isna().sum()"
   ]
  },
  {
   "cell_type": "code",
   "execution_count": 65,
   "metadata": {},
   "outputs": [
    {
     "data": {
      "text/plain": [
       "title              0\n",
       "console            0\n",
       "genre              0\n",
       "publisher          0\n",
       "developer          0\n",
       "critic_score       0\n",
       "total_sales        0\n",
       "na_sales           0\n",
       "jp_sales        2461\n",
       "pal_sales        247\n",
       "other_sales       31\n",
       "release_date       0\n",
       "last_update     3200\n",
       "dtype: int64"
      ]
     },
     "execution_count": 65,
     "metadata": {},
     "output_type": "execute_result"
    }
   ],
   "source": [
    "# Cleaning na_sales column\n",
    "df_c = df_c.dropna(subset=['na_sales'])\n",
    "df_c.isna().sum()"
   ]
  },
  {
   "cell_type": "code",
   "execution_count": 66,
   "metadata": {},
   "outputs": [
    {
     "data": {
      "text/plain": [
       "title             0\n",
       "console           0\n",
       "genre             0\n",
       "publisher         0\n",
       "developer         0\n",
       "critic_score      0\n",
       "total_sales       0\n",
       "na_sales          0\n",
       "jp_sales          0\n",
       "pal_sales        62\n",
       "other_sales       6\n",
       "release_date      0\n",
       "last_update     978\n",
       "dtype: int64"
      ]
     },
     "execution_count": 66,
     "metadata": {},
     "output_type": "execute_result"
    }
   ],
   "source": [
    "# Cleaning jp_sales column\n",
    "df_c = df_c.dropna(subset=['jp_sales'])\n",
    "df_c.isna().sum()"
   ]
  },
  {
   "cell_type": "code",
   "execution_count": 67,
   "metadata": {},
   "outputs": [
    {
     "data": {
      "text/plain": [
       "title             0\n",
       "console           0\n",
       "genre             0\n",
       "publisher         0\n",
       "developer         0\n",
       "critic_score      0\n",
       "total_sales       0\n",
       "na_sales          0\n",
       "jp_sales          0\n",
       "pal_sales         0\n",
       "other_sales       5\n",
       "release_date      0\n",
       "last_update     933\n",
       "dtype: int64"
      ]
     },
     "execution_count": 67,
     "metadata": {},
     "output_type": "execute_result"
    }
   ],
   "source": [
    "# Cleaning pal_sales column\n",
    "df_c = df_c.dropna(subset=['pal_sales'])\n",
    "df_c.isna().sum()"
   ]
  },
  {
   "cell_type": "code",
   "execution_count": 68,
   "metadata": {},
   "outputs": [
    {
     "data": {
      "text/plain": [
       "title             0\n",
       "console           0\n",
       "genre             0\n",
       "publisher         0\n",
       "developer         0\n",
       "critic_score      0\n",
       "total_sales       0\n",
       "na_sales          0\n",
       "jp_sales          0\n",
       "pal_sales         0\n",
       "other_sales       0\n",
       "release_date      0\n",
       "last_update     928\n",
       "dtype: int64"
      ]
     },
     "execution_count": 68,
     "metadata": {},
     "output_type": "execute_result"
    }
   ],
   "source": [
    "# Cleaning other_sales column\n",
    "df_c = df_c.dropna(subset=['other_sales'])\n",
    "df_c.isna().sum()"
   ]
  },
  {
   "cell_type": "markdown",
   "metadata": {},
   "source": [
    "<h2> Replacing NaN with Mean </h2>"
   ]
  },
  {
   "cell_type": "code",
   "execution_count": 105,
   "metadata": {},
   "outputs": [],
   "source": [
    "df_m = df_c.copy()"
   ]
  },
  {
   "cell_type": "code",
   "execution_count": 106,
   "metadata": {},
   "outputs": [
    {
     "data": {
      "text/plain": [
       "title             0\n",
       "console           0\n",
       "genre             0\n",
       "publisher         0\n",
       "developer         0\n",
       "critic_score      0\n",
       "total_sales       0\n",
       "na_sales          0\n",
       "jp_sales          0\n",
       "pal_sales         0\n",
       "other_sales       0\n",
       "release_date      0\n",
       "last_update     928\n",
       "dtype: int64"
      ]
     },
     "execution_count": 106,
     "metadata": {},
     "output_type": "execute_result"
    }
   ],
   "source": [
    "df_m.isna().sum()"
   ]
  },
  {
   "cell_type": "code",
   "execution_count": 107,
   "metadata": {},
   "outputs": [
    {
     "name": "stdout",
     "output_type": "stream",
     "text": [
      "7.537768595041323\n"
     ]
    }
   ],
   "source": [
    "# Cleaning critic_score column with mean\n",
    "dev_mean = df_m['critic_score'].mean()\n",
    "print(dev_mean)\n",
    "df_m['critic_score'] = df_m['critic_score'].fillna(dev_mean)"
   ]
  },
  {
   "cell_type": "code",
   "execution_count": 108,
   "metadata": {},
   "outputs": [
    {
     "name": "stdout",
     "output_type": "stream",
     "text": [
      "1.4998\n"
     ]
    }
   ],
   "source": [
    "# Cleaning total_sales column with mean\n",
    "df_m['total_sales'] = df_m['total_sales'].fillna(df_m['total_sales'].mean())\n",
    "print(df_m['total_sales'].mean().round(4))"
   ]
  },
  {
   "cell_type": "code",
   "execution_count": 109,
   "metadata": {},
   "outputs": [
    {
     "name": "stdout",
     "output_type": "stream",
     "text": [
      "0.6904\n"
     ]
    }
   ],
   "source": [
    "# Cleaning na_sales column with mean\n",
    "df_m['na_sales'] = df_m['na_sales'].fillna(df_m['na_sales'].mean())\n",
    "print(df_m['na_sales'].mean().round(4))"
   ]
  },
  {
   "cell_type": "code",
   "execution_count": 110,
   "metadata": {},
   "outputs": [
    {
     "name": "stdout",
     "output_type": "stream",
     "text": [
      "0.1065\n"
     ]
    }
   ],
   "source": [
    "# Cleaning jp_sales column with mean\n",
    "df_m['jp_sales'] = df_m['jp_sales'].fillna(df_m['jp_sales'].mean())\n",
    "print(df_m['jp_sales'].mean().round(4))"
   ]
  },
  {
   "cell_type": "code",
   "execution_count": 111,
   "metadata": {},
   "outputs": [
    {
     "name": "stdout",
     "output_type": "stream",
     "text": [
      "0.5247\n"
     ]
    }
   ],
   "source": [
    "# Cleaning pal_sales column with mean\n",
    "df_m['pal_sales'] = df_m['pal_sales'].fillna(df_m['pal_sales'].mean())\n",
    "print(df_m['pal_sales'].mean().round(4))"
   ]
  },
  {
   "cell_type": "code",
   "execution_count": 112,
   "metadata": {},
   "outputs": [
    {
     "name": "stdout",
     "output_type": "stream",
     "text": [
      "0.1781\n"
     ]
    }
   ],
   "source": [
    "# Cleaning other_sales column with mean\n",
    "df_m['other_sales'] = df_m['other_sales'].fillna(df_m['other_sales'].mean())\n",
    "print(df_m['other_sales'].mean().round(4))"
   ]
  },
  {
   "cell_type": "code",
   "execution_count": 113,
   "metadata": {},
   "outputs": [
    {
     "data": {
      "text/plain": [
       "title             0\n",
       "console           0\n",
       "genre             0\n",
       "publisher         0\n",
       "developer         0\n",
       "critic_score      0\n",
       "total_sales       0\n",
       "na_sales          0\n",
       "jp_sales          0\n",
       "pal_sales         0\n",
       "other_sales       0\n",
       "release_date      0\n",
       "last_update     928\n",
       "dtype: int64"
      ]
     },
     "execution_count": 113,
     "metadata": {},
     "output_type": "execute_result"
    }
   ],
   "source": [
    "df_m.isna().sum()"
   ]
  },
  {
   "cell_type": "code",
   "execution_count": 114,
   "metadata": {},
   "outputs": [
    {
     "name": "stdout",
     "output_type": "stream",
     "text": [
      "<class 'pandas.core.frame.DataFrame'>\n",
      "Index: 1210 entries, 0 to 15044\n",
      "Data columns (total 13 columns):\n",
      " #   Column        Non-Null Count  Dtype  \n",
      "---  ------        --------------  -----  \n",
      " 0   title         1210 non-null   object \n",
      " 1   console       1210 non-null   object \n",
      " 2   genre         1210 non-null   object \n",
      " 3   publisher     1210 non-null   object \n",
      " 4   developer     1210 non-null   object \n",
      " 5   critic_score  1210 non-null   float64\n",
      " 6   total_sales   1210 non-null   float64\n",
      " 7   na_sales      1210 non-null   float64\n",
      " 8   jp_sales      1210 non-null   float64\n",
      " 9   pal_sales     1210 non-null   float64\n",
      " 10  other_sales   1210 non-null   float64\n",
      " 11  release_date  1210 non-null   object \n",
      " 12  last_update   282 non-null    object \n",
      "dtypes: float64(6), object(7)\n",
      "memory usage: 132.3+ KB\n"
     ]
    }
   ],
   "source": [
    "df_m.info()"
   ]
  },
  {
   "cell_type": "code",
   "execution_count": 116,
   "metadata": {},
   "outputs": [
    {
     "data": {
      "text/html": [
       "<div>\n",
       "<style scoped>\n",
       "    .dataframe tbody tr th:only-of-type {\n",
       "        vertical-align: middle;\n",
       "    }\n",
       "\n",
       "    .dataframe tbody tr th {\n",
       "        vertical-align: top;\n",
       "    }\n",
       "\n",
       "    .dataframe thead th {\n",
       "        text-align: right;\n",
       "    }\n",
       "</style>\n",
       "<table border=\"1\" class=\"dataframe\">\n",
       "  <thead>\n",
       "    <tr style=\"text-align: right;\">\n",
       "      <th></th>\n",
       "      <th>critic_score</th>\n",
       "      <th>total_sales</th>\n",
       "      <th>na_sales</th>\n",
       "      <th>jp_sales</th>\n",
       "      <th>pal_sales</th>\n",
       "      <th>other_sales</th>\n",
       "    </tr>\n",
       "  </thead>\n",
       "  <tbody>\n",
       "    <tr>\n",
       "      <th>count</th>\n",
       "      <td>1210.000000</td>\n",
       "      <td>1210.000000</td>\n",
       "      <td>1210.000000</td>\n",
       "      <td>1210.000000</td>\n",
       "      <td>1210.000000</td>\n",
       "      <td>1210.000000</td>\n",
       "    </tr>\n",
       "    <tr>\n",
       "      <th>mean</th>\n",
       "      <td>7.537769</td>\n",
       "      <td>1.499777</td>\n",
       "      <td>0.690438</td>\n",
       "      <td>0.106512</td>\n",
       "      <td>0.524727</td>\n",
       "      <td>0.178074</td>\n",
       "    </tr>\n",
       "    <tr>\n",
       "      <th>std</th>\n",
       "      <td>1.200153</td>\n",
       "      <td>2.228479</td>\n",
       "      <td>1.097869</td>\n",
       "      <td>0.164748</td>\n",
       "      <td>0.953987</td>\n",
       "      <td>0.322764</td>\n",
       "    </tr>\n",
       "    <tr>\n",
       "      <th>min</th>\n",
       "      <td>3.000000</td>\n",
       "      <td>0.020000</td>\n",
       "      <td>0.010000</td>\n",
       "      <td>0.000000</td>\n",
       "      <td>0.000000</td>\n",
       "      <td>0.000000</td>\n",
       "    </tr>\n",
       "    <tr>\n",
       "      <th>25%</th>\n",
       "      <td>6.800000</td>\n",
       "      <td>0.350000</td>\n",
       "      <td>0.140000</td>\n",
       "      <td>0.020000</td>\n",
       "      <td>0.050000</td>\n",
       "      <td>0.020000</td>\n",
       "    </tr>\n",
       "    <tr>\n",
       "      <th>50%</th>\n",
       "      <td>7.700000</td>\n",
       "      <td>0.710000</td>\n",
       "      <td>0.290000</td>\n",
       "      <td>0.050000</td>\n",
       "      <td>0.200000</td>\n",
       "      <td>0.060000</td>\n",
       "    </tr>\n",
       "    <tr>\n",
       "      <th>75%</th>\n",
       "      <td>8.400000</td>\n",
       "      <td>1.577500</td>\n",
       "      <td>0.727500</td>\n",
       "      <td>0.127500</td>\n",
       "      <td>0.530000</td>\n",
       "      <td>0.180000</td>\n",
       "    </tr>\n",
       "    <tr>\n",
       "      <th>max</th>\n",
       "      <td>10.000000</td>\n",
       "      <td>20.320000</td>\n",
       "      <td>9.760000</td>\n",
       "      <td>1.870000</td>\n",
       "      <td>9.850000</td>\n",
       "      <td>3.120000</td>\n",
       "    </tr>\n",
       "  </tbody>\n",
       "</table>\n",
       "</div>"
      ],
      "text/plain": [
       "       critic_score  total_sales     na_sales     jp_sales    pal_sales  \\\n",
       "count   1210.000000  1210.000000  1210.000000  1210.000000  1210.000000   \n",
       "mean       7.537769     1.499777     0.690438     0.106512     0.524727   \n",
       "std        1.200153     2.228479     1.097869     0.164748     0.953987   \n",
       "min        3.000000     0.020000     0.010000     0.000000     0.000000   \n",
       "25%        6.800000     0.350000     0.140000     0.020000     0.050000   \n",
       "50%        7.700000     0.710000     0.290000     0.050000     0.200000   \n",
       "75%        8.400000     1.577500     0.727500     0.127500     0.530000   \n",
       "max       10.000000    20.320000     9.760000     1.870000     9.850000   \n",
       "\n",
       "       other_sales  \n",
       "count  1210.000000  \n",
       "mean      0.178074  \n",
       "std       0.322764  \n",
       "min       0.000000  \n",
       "25%       0.020000  \n",
       "50%       0.060000  \n",
       "75%       0.180000  \n",
       "max       3.120000  "
      ]
     },
     "execution_count": 116,
     "metadata": {},
     "output_type": "execute_result"
    }
   ],
   "source": [
    "df_m.describe()"
   ]
  },
  {
   "cell_type": "code",
   "execution_count": 118,
   "metadata": {},
   "outputs": [
    {
     "data": {
      "text/plain": [
       "title             0\n",
       "console           0\n",
       "genre             0\n",
       "publisher         0\n",
       "developer         0\n",
       "critic_score      0\n",
       "total_sales       0\n",
       "na_sales          0\n",
       "jp_sales          0\n",
       "pal_sales         0\n",
       "other_sales       0\n",
       "release_date      0\n",
       "last_update     928\n",
       "dtype: int64"
      ]
     },
     "execution_count": 118,
     "metadata": {},
     "output_type": "execute_result"
    }
   ],
   "source": [
    "df_m.isna().sum()"
   ]
  },
  {
   "cell_type": "code",
   "execution_count": 119,
   "metadata": {},
   "outputs": [
    {
     "name": "stdout",
     "output_type": "stream",
     "text": [
      "<class 'pandas.core.frame.DataFrame'>\n",
      "Index: 1210 entries, 0 to 15044\n",
      "Data columns (total 13 columns):\n",
      " #   Column        Non-Null Count  Dtype  \n",
      "---  ------        --------------  -----  \n",
      " 0   title         1210 non-null   object \n",
      " 1   console       1210 non-null   object \n",
      " 2   genre         1210 non-null   object \n",
      " 3   publisher     1210 non-null   object \n",
      " 4   developer     1210 non-null   object \n",
      " 5   critic_score  1210 non-null   float64\n",
      " 6   total_sales   1210 non-null   float64\n",
      " 7   na_sales      1210 non-null   float64\n",
      " 8   jp_sales      1210 non-null   float64\n",
      " 9   pal_sales     1210 non-null   float64\n",
      " 10  other_sales   1210 non-null   float64\n",
      " 11  release_date  1210 non-null   object \n",
      " 12  last_update   282 non-null    object \n",
      "dtypes: float64(6), object(7)\n",
      "memory usage: 132.3+ KB\n"
     ]
    }
   ],
   "source": [
    "df_m.info()"
   ]
  },
  {
   "cell_type": "markdown",
   "metadata": {},
   "source": [
    "# **Saving** the Cleaned Dataset"
   ]
  },
  {
   "cell_type": "code",
   "execution_count": 120,
   "metadata": {},
   "outputs": [],
   "source": [
    "df_m.to_csv(r\"..\\raw\\vgchartz-2024-cleansed.csv\", index=False)"
   ]
  }
 ],
 "metadata": {
  "kernelspec": {
   "display_name": "Python 3",
   "language": "python",
   "name": "python3"
  },
  "language_info": {
   "codemirror_mode": {
    "name": "ipython",
    "version": 3
   },
   "file_extension": ".py",
   "mimetype": "text/x-python",
   "name": "python",
   "nbconvert_exporter": "python",
   "pygments_lexer": "ipython3",
   "version": "3.13.1"
  }
 },
 "nbformat": 4,
 "nbformat_minor": 2
}
